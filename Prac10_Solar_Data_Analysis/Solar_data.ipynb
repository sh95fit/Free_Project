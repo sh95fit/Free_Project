{
 "cells": [
  {
   "cell_type": "code",
   "execution_count": 164,
   "metadata": {},
   "outputs": [],
   "source": [
    "import pymysql.cursors\n",
    "from dotenv import load_dotenv\n",
    "import os\n",
    "\n",
    "import pandas as pd\n",
    "import numpy as np\n",
    "\n",
    "load_dotenv()\n",
    "\n",
    "host = os.getenv(\"db_host\")\n",
    "user = os.getenv(\"db_user\")\n",
    "password = os.getenv(\"db_password\")\n",
    "port = int(os.getenv(\"db_port\"))\n",
    "database = os.getenv(\"db_database\")"
   ]
  },
  {
   "cell_type": "code",
   "execution_count": 165,
   "metadata": {},
   "outputs": [],
   "source": [
    "connection = pymysql.connect(host=host,\n",
    "                             user=user,\n",
    "                             password=password,\n",
    "                             database=database,\n",
    "                             port=port,\n",
    "                             cursorclass=pymysql.cursors.DictCursor)"
   ]
  },
  {
   "cell_type": "code",
   "execution_count": 166,
   "metadata": {},
   "outputs": [
    {
     "name": "stdout",
     "output_type": "stream",
     "text": [
      "{'UNTID': '4098610941', 'IVTID': 'IVT-2023112000001', 'SERIALNO': '3030303030333538313232303835303133393434', 'EVTDATME': datetime.datetime(2024, 1, 1, 6, 0, 13), 'READTIME': '20240101 0600', 'TYPECODE': 1, 'DATAREAD': 20, 'DATATYPE': 1, 'PHASE': 2, 'STATIONNO': 1, 'ERRCD': 57, 'INV1': 0.0, 'INV2': 0.0, 'INV3': 0.0, 'INV4': 0.0, 'INV5': 0.0, 'INV6': 0.0, 'INV7': 0.0, 'INV8': 0.0, 'INV9': 0.0, 'INV10': 0.0, 'INV11': 0.0, 'INV12': 0.0, 'INV13': 0.0, 'INV14': 0.0, 'INV15': 0.0, 'INV16': 0.0, 'INV17': 0.0, 'INV18': 0.0, 'INV19': 0.0, 'INV20': 0.0, 'INA1': 0.0, 'INA2': 0.0, 'INA3': 0.0, 'INA4': 0.0, 'INA5': 0.0, 'INA6': 0.0, 'INA7': 0.0, 'INA8': 0.0, 'INA9': 0.0, 'INA10': 0.0, 'INA11': 0.0, 'INA12': 0.0, 'INA13': 0.0, 'INA14': 0.0, 'INA15': 0.0, 'INA16': 0.0, 'INA17': 0.0, 'INA18': 0.0, 'INA19': 0.0, 'INA20': 0.0, 'INP': 0.0, 'OUTV': 0.0, 'OUTA': 0.0, 'OUTVR': 0.0, 'OURVS': 0.0, 'OUTVT': 0.0, 'OUTAR': 0.0, 'OUTAS': 0.0, 'OUTAT': 0.0, 'OUTP': 0.0, 'PF': 0.0, 'FRQ': 0.0, 'TEMP': 0.0, 'TPG': Decimal('0'), 'RUNTYPE': 1, 'CPG': Decimal('0'), 'INVERRCD': 0, 'ONHOUR': 0, 'IVTFIRMVER': 0, 'STATUS01': 0, 'STATUS02': 0, 'STATUS03': 0, 'STATUS04': 0, 'STATUS05': 0, 'STATUS06': 0, 'STATUS07': 0, 'STATUS08': 0, 'STATUS09': 0, 'STATUS10': 0, 'STATUS11': 0, 'EVTDATE': '2024-01-01', 'VERSION': 0, 'USETYPE': 'Y', 'UPDDATIME': datetime.datetime(2024, 1, 1, 6, 0, 13), 'TOTAL_CO2': 0, 'TODAY_CO2': 0, 'GENERATION_TIME': 0, 'CTPG': Decimal('0')}\n"
     ]
    }
   ],
   "source": [
    "# 연결 테스트\n",
    "\n",
    "with connection:\n",
    "    with connection.cursor() as cursor:\n",
    "        sql = \"select * from tb_slalteloghis where SERIALNO=%s\"\n",
    "        cursor.execute(sql, ('3030303030333538313232303835303133393434'))\n",
    "        result = cursor.fetchone()\n",
    "        print(result)"
   ]
  },
  {
   "cell_type": "code",
   "execution_count": 167,
   "metadata": {},
   "outputs": [
    {
     "name": "stdout",
     "output_type": "stream",
     "text": [
      "['tb_slalteloghis_2023_07_01', 'tb_slalteloghis_2023_08_01', 'tb_slalteloghis_2023_09_01', 'tb_slalteloghis_2023_10_01', 'tb_slalteloghis_2023_11_01', 'tb_slalteloghis_2023_12_01', 'tb_slalteloghis_2024_01_01', 'tb_slalteloghis']\n"
     ]
    }
   ],
   "source": [
    "from datetime import datetime\n",
    "from dateutil.relativedelta import relativedelta\n",
    "\n",
    "table_type = {'lte':'tb_slalteloghis', 'lora':'tb_slaloraloghis', 'gsrems':'tb_slagsremsloghis'}\n",
    "\n",
    "def generate_monthly_first_date_list(type, start_date, end_date):\n",
    "    table_list = []\n",
    "    current_date = start_date.replace(day=1)  # 시작 날짜의 1일로 설정\n",
    "\n",
    "    while current_date <= end_date:\n",
    "        table_list.append(f\"{table_type[type]}_{current_date.strftime('%Y_%m_%d')}\")\n",
    "        current_date += relativedelta(months=1)  # 매월 1일로 이동\n",
    "\n",
    "    table_list.append(f\"{table_type[type]}\")\n",
    "\n",
    "    return table_list\n",
    "\n",
    "# 입력된 날짜\n",
    "input_date = datetime(2023, 7, 11)\n",
    "\n",
    "# 현재 날짜\n",
    "current_date = datetime.now()\n",
    "\n",
    "# 모뎀 타입\n",
    "type = 'lte'\n",
    "\n",
    "# 테이블 리스트 생성\n",
    "table_list = generate_monthly_first_date_list(type, input_date, current_date)\n",
    "\n",
    "# 결과 출력\n",
    "print(table_list)"
   ]
  },
  {
   "cell_type": "code",
   "execution_count": 168,
   "metadata": {},
   "outputs": [
    {
     "name": "stdout",
     "output_type": "stream",
     "text": [
      "3030303030333538313232303835303133393434\n"
     ]
    }
   ],
   "source": [
    "SERIALNO = \"3030303030333538313232303835303133393434\"\n",
    "\n",
    "ascii_serialno = \"00000358122085013944\"\n",
    "hex_serialno = ''.join(hex(ord(char))[2:] for char in ascii_serialno)\n",
    "\n",
    "print(hex_serialno)"
   ]
  },
  {
   "cell_type": "code",
   "execution_count": 169,
   "metadata": {},
   "outputs": [
    {
     "name": "stdout",
     "output_type": "stream",
     "text": [
      "SELECT * FROM tb_slalteloghis_2023_07_01 WHERE SERIALNO = '3030303030333538313232303835303133393434' UNION SELECT * FROM tb_slalteloghis_2023_08_01 WHERE SERIALNO = '3030303030333538313232303835303133393434' UNION SELECT * FROM tb_slalteloghis_2023_09_01 WHERE SERIALNO = '3030303030333538313232303835303133393434' UNION SELECT * FROM tb_slalteloghis_2023_10_01 WHERE SERIALNO = '3030303030333538313232303835303133393434' UNION SELECT * FROM tb_slalteloghis_2023_11_01 WHERE SERIALNO = '3030303030333538313232303835303133393434' UNION SELECT * FROM tb_slalteloghis_2023_12_01 WHERE SERIALNO = '3030303030333538313232303835303133393434' UNION SELECT * FROM tb_slalteloghis_2024_01_01 WHERE SERIALNO = '3030303030333538313232303835303133393434' UNION SELECT * FROM tb_slalteloghis WHERE SERIALNO = '3030303030333538313232303835303133393434'\n"
     ]
    }
   ],
   "source": [
    "sql = \" UNION \".join(f\"SELECT * FROM {table} WHERE SERIALNO = '{hex_serialno}'\" for table in table_list)\n",
    "\n",
    "print(sql)"
   ]
  },
  {
   "cell_type": "code",
   "execution_count": 170,
   "metadata": {},
   "outputs": [],
   "source": [
    "connection = pymysql.connect(host=host,\n",
    "                             user=user,\n",
    "                             password=password,\n",
    "                             database=database,\n",
    "                             port=port,\n",
    "                             cursorclass=pymysql.cursors.DictCursor)"
   ]
  },
  {
   "cell_type": "code",
   "execution_count": 171,
   "metadata": {},
   "outputs": [
    {
     "name": "stdout",
     "output_type": "stream",
     "text": [
      "Query result has been saved to solar_data.csv\n"
     ]
    }
   ],
   "source": [
    "try :\n",
    "    with connection:\n",
    "        with connection.cursor() as cursor:\n",
    "            cursor.execute(sql)\n",
    "            result = cursor.fetchall()\n",
    "\n",
    "            df = pd.DataFrame(result)\n",
    "\n",
    "            csv_filename = 'solar_data.csv'\n",
    "            df.to_csv(csv_filename, index=False, encoding='utf-8')\n",
    "\n",
    "            print(f\"Query result has been saved to {csv_filename}\")\n",
    "except:\n",
    "    connection.close()\n",
    "    print(f\"Query Faild...\")"
   ]
  }
 ],
 "metadata": {
  "kernelspec": {
   "display_name": "venv",
   "language": "python",
   "name": "python3"
  },
  "language_info": {
   "codemirror_mode": {
    "name": "ipython",
    "version": 3
   },
   "file_extension": ".py",
   "mimetype": "text/x-python",
   "name": "python",
   "nbconvert_exporter": "python",
   "pygments_lexer": "ipython3",
   "version": "3.11.1"
  }
 },
 "nbformat": 4,
 "nbformat_minor": 2
}
